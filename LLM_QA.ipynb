{
 "cells": [
  {
   "cell_type": "code",
   "execution_count": 1,
   "id": "dff44702-6181-4119-b390-b3da975feef5",
   "metadata": {},
   "outputs": [
    {
     "name": "stdout",
     "output_type": "stream",
     "text": [
      "Requirement already satisfied: transformers in c:\\users\\user\\anaconda3\\envs\\w20240908\\lib\\site-packages (4.43.4)\n",
      "Requirement already satisfied: gradio in c:\\users\\user\\anaconda3\\envs\\w20240908\\lib\\site-packages (4.43.0)\n",
      "Requirement already satisfied: filelock in c:\\users\\user\\anaconda3\\envs\\w20240908\\lib\\site-packages (from transformers) (3.16.0)\n",
      "Requirement already satisfied: huggingface-hub<1.0,>=0.23.2 in c:\\users\\user\\anaconda3\\envs\\w20240908\\lib\\site-packages (from transformers) (0.24.6)\n",
      "Requirement already satisfied: numpy>=1.17 in c:\\users\\user\\anaconda3\\envs\\w20240908\\lib\\site-packages (from transformers) (1.26.4)\n",
      "Requirement already satisfied: packaging>=20.0 in c:\\users\\user\\anaconda3\\envs\\w20240908\\lib\\site-packages (from transformers) (24.1)\n",
      "Requirement already satisfied: pyyaml>=5.1 in c:\\users\\user\\anaconda3\\envs\\w20240908\\lib\\site-packages (from transformers) (6.0.2)\n",
      "Requirement already satisfied: regex!=2019.12.17 in c:\\users\\user\\anaconda3\\envs\\w20240908\\lib\\site-packages (from transformers) (2024.7.24)\n",
      "Requirement already satisfied: requests in c:\\users\\user\\anaconda3\\envs\\w20240908\\lib\\site-packages (from transformers) (2.32.3)\n",
      "Requirement already satisfied: safetensors>=0.4.1 in c:\\users\\user\\anaconda3\\envs\\w20240908\\lib\\site-packages (from transformers) (0.4.5)\n",
      "Requirement already satisfied: tokenizers<0.20,>=0.19 in c:\\users\\user\\anaconda3\\envs\\w20240908\\lib\\site-packages (from transformers) (0.19.1)\n",
      "Requirement already satisfied: tqdm>=4.27 in c:\\users\\user\\anaconda3\\envs\\w20240908\\lib\\site-packages (from transformers) (4.66.5)\n",
      "Requirement already satisfied: aiofiles<24.0,>=22.0 in c:\\users\\user\\anaconda3\\envs\\w20240908\\lib\\site-packages (from gradio) (23.2.1)\n",
      "Requirement already satisfied: anyio<5.0,>=3.0 in c:\\users\\user\\anaconda3\\envs\\w20240908\\lib\\site-packages (from gradio) (4.4.0)\n",
      "Requirement already satisfied: fastapi<0.113.0 in c:\\users\\user\\anaconda3\\envs\\w20240908\\lib\\site-packages (from gradio) (0.112.4)\n",
      "Requirement already satisfied: ffmpy in c:\\users\\user\\anaconda3\\envs\\w20240908\\lib\\site-packages (from gradio) (0.4.0)\n",
      "Requirement already satisfied: gradio-client==1.3.0 in c:\\users\\user\\anaconda3\\envs\\w20240908\\lib\\site-packages (from gradio) (1.3.0)\n",
      "Requirement already satisfied: httpx>=0.24.1 in c:\\users\\user\\anaconda3\\envs\\w20240908\\lib\\site-packages (from gradio) (0.27.2)\n",
      "Requirement already satisfied: importlib-resources<7.0,>=1.3 in c:\\users\\user\\anaconda3\\envs\\w20240908\\lib\\site-packages (from gradio) (6.4.4)\n",
      "Requirement already satisfied: jinja2<4.0 in c:\\users\\user\\anaconda3\\envs\\w20240908\\lib\\site-packages (from gradio) (3.1.4)\n",
      "Requirement already satisfied: markupsafe~=2.0 in c:\\users\\user\\anaconda3\\envs\\w20240908\\lib\\site-packages (from gradio) (2.1.5)\n",
      "Requirement already satisfied: matplotlib~=3.0 in c:\\users\\user\\anaconda3\\envs\\w20240908\\lib\\site-packages (from gradio) (3.9.2)\n",
      "Requirement already satisfied: orjson~=3.0 in c:\\users\\user\\anaconda3\\envs\\w20240908\\lib\\site-packages (from gradio) (3.10.7)\n",
      "Requirement already satisfied: pandas<3.0,>=1.0 in c:\\users\\user\\anaconda3\\envs\\w20240908\\lib\\site-packages (from gradio) (2.2.2)\n",
      "Requirement already satisfied: pillow<11.0,>=8.0 in c:\\users\\user\\anaconda3\\envs\\w20240908\\lib\\site-packages (from gradio) (10.4.0)\n",
      "Requirement already satisfied: pydantic>=2.0 in c:\\users\\user\\anaconda3\\envs\\w20240908\\lib\\site-packages (from gradio) (2.9.0)\n",
      "Requirement already satisfied: pydub in c:\\users\\user\\anaconda3\\envs\\w20240908\\lib\\site-packages (from gradio) (0.25.1)\n",
      "Requirement already satisfied: python-multipart>=0.0.9 in c:\\users\\user\\anaconda3\\envs\\w20240908\\lib\\site-packages (from gradio) (0.0.9)\n",
      "Requirement already satisfied: ruff>=0.2.2 in c:\\users\\user\\anaconda3\\envs\\w20240908\\lib\\site-packages (from gradio) (0.6.4)\n",
      "Requirement already satisfied: semantic-version~=2.0 in c:\\users\\user\\anaconda3\\envs\\w20240908\\lib\\site-packages (from gradio) (2.10.0)\n",
      "Requirement already satisfied: tomlkit==0.12.0 in c:\\users\\user\\anaconda3\\envs\\w20240908\\lib\\site-packages (from gradio) (0.12.0)\n",
      "Requirement already satisfied: typer<1.0,>=0.12 in c:\\users\\user\\anaconda3\\envs\\w20240908\\lib\\site-packages (from gradio) (0.12.5)\n",
      "Requirement already satisfied: typing-extensions~=4.0 in c:\\users\\user\\anaconda3\\envs\\w20240908\\lib\\site-packages (from gradio) (4.12.2)\n",
      "Requirement already satisfied: urllib3~=2.0 in c:\\users\\user\\anaconda3\\envs\\w20240908\\lib\\site-packages (from gradio) (2.2.2)\n",
      "Requirement already satisfied: uvicorn>=0.14.0 in c:\\users\\user\\anaconda3\\envs\\w20240908\\lib\\site-packages (from gradio) (0.30.6)\n",
      "Requirement already satisfied: fsspec in c:\\users\\user\\anaconda3\\envs\\w20240908\\lib\\site-packages (from gradio-client==1.3.0->gradio) (2024.6.1)\n",
      "Requirement already satisfied: websockets<13.0,>=10.0 in c:\\users\\user\\anaconda3\\envs\\w20240908\\lib\\site-packages (from gradio-client==1.3.0->gradio) (12.0)\n",
      "Requirement already satisfied: idna>=2.8 in c:\\users\\user\\anaconda3\\envs\\w20240908\\lib\\site-packages (from anyio<5.0,>=3.0->gradio) (3.8)\n",
      "Requirement already satisfied: sniffio>=1.1 in c:\\users\\user\\anaconda3\\envs\\w20240908\\lib\\site-packages (from anyio<5.0,>=3.0->gradio) (1.3.1)\n",
      "Requirement already satisfied: starlette<0.39.0,>=0.37.2 in c:\\users\\user\\anaconda3\\envs\\w20240908\\lib\\site-packages (from fastapi<0.113.0->gradio) (0.38.4)\n",
      "Requirement already satisfied: certifi in c:\\users\\user\\anaconda3\\envs\\w20240908\\lib\\site-packages (from httpx>=0.24.1->gradio) (2024.7.4)\n",
      "Requirement already satisfied: httpcore==1.* in c:\\users\\user\\anaconda3\\envs\\w20240908\\lib\\site-packages (from httpx>=0.24.1->gradio) (1.0.5)\n",
      "Requirement already satisfied: h11<0.15,>=0.13 in c:\\users\\user\\anaconda3\\envs\\w20240908\\lib\\site-packages (from httpcore==1.*->httpx>=0.24.1->gradio) (0.14.0)\n",
      "Requirement already satisfied: contourpy>=1.0.1 in c:\\users\\user\\anaconda3\\envs\\w20240908\\lib\\site-packages (from matplotlib~=3.0->gradio) (1.3.0)\n",
      "Requirement already satisfied: cycler>=0.10 in c:\\users\\user\\anaconda3\\envs\\w20240908\\lib\\site-packages (from matplotlib~=3.0->gradio) (0.12.1)\n",
      "Requirement already satisfied: fonttools>=4.22.0 in c:\\users\\user\\anaconda3\\envs\\w20240908\\lib\\site-packages (from matplotlib~=3.0->gradio) (4.53.1)\n",
      "Requirement already satisfied: kiwisolver>=1.3.1 in c:\\users\\user\\anaconda3\\envs\\w20240908\\lib\\site-packages (from matplotlib~=3.0->gradio) (1.4.7)\n",
      "Requirement already satisfied: pyparsing>=2.3.1 in c:\\users\\user\\anaconda3\\envs\\w20240908\\lib\\site-packages (from matplotlib~=3.0->gradio) (3.1.4)\n",
      "Requirement already satisfied: python-dateutil>=2.7 in c:\\users\\user\\anaconda3\\envs\\w20240908\\lib\\site-packages (from matplotlib~=3.0->gradio) (2.9.0.post0)\n",
      "Requirement already satisfied: pytz>=2020.1 in c:\\users\\user\\anaconda3\\envs\\w20240908\\lib\\site-packages (from pandas<3.0,>=1.0->gradio) (2024.1)\n",
      "Requirement already satisfied: tzdata>=2022.7 in c:\\users\\user\\anaconda3\\envs\\w20240908\\lib\\site-packages (from pandas<3.0,>=1.0->gradio) (2024.1)\n",
      "Requirement already satisfied: annotated-types>=0.4.0 in c:\\users\\user\\anaconda3\\envs\\w20240908\\lib\\site-packages (from pydantic>=2.0->gradio) (0.7.0)\n",
      "Requirement already satisfied: pydantic-core==2.23.2 in c:\\users\\user\\anaconda3\\envs\\w20240908\\lib\\site-packages (from pydantic>=2.0->gradio) (2.23.2)\n",
      "Requirement already satisfied: colorama in c:\\users\\user\\anaconda3\\envs\\w20240908\\lib\\site-packages (from tqdm>=4.27->transformers) (0.4.6)\n",
      "Requirement already satisfied: click>=8.0.0 in c:\\users\\user\\anaconda3\\envs\\w20240908\\lib\\site-packages (from typer<1.0,>=0.12->gradio) (8.1.7)\n",
      "Requirement already satisfied: shellingham>=1.3.0 in c:\\users\\user\\anaconda3\\envs\\w20240908\\lib\\site-packages (from typer<1.0,>=0.12->gradio) (1.5.4)\n",
      "Requirement already satisfied: rich>=10.11.0 in c:\\users\\user\\anaconda3\\envs\\w20240908\\lib\\site-packages (from typer<1.0,>=0.12->gradio) (13.8.0)\n",
      "Requirement already satisfied: charset-normalizer<4,>=2 in c:\\users\\user\\anaconda3\\envs\\w20240908\\lib\\site-packages (from requests->transformers) (3.3.2)\n",
      "Requirement already satisfied: six>=1.5 in c:\\users\\user\\anaconda3\\envs\\w20240908\\lib\\site-packages (from python-dateutil>=2.7->matplotlib~=3.0->gradio) (1.16.0)\n",
      "Requirement already satisfied: markdown-it-py>=2.2.0 in c:\\users\\user\\anaconda3\\envs\\w20240908\\lib\\site-packages (from rich>=10.11.0->typer<1.0,>=0.12->gradio) (3.0.0)\n",
      "Requirement already satisfied: pygments<3.0.0,>=2.13.0 in c:\\users\\user\\anaconda3\\envs\\w20240908\\lib\\site-packages (from rich>=10.11.0->typer<1.0,>=0.12->gradio) (2.18.0)\n",
      "Requirement already satisfied: mdurl~=0.1 in c:\\users\\user\\anaconda3\\envs\\w20240908\\lib\\site-packages (from markdown-it-py>=2.2.0->rich>=10.11.0->typer<1.0,>=0.12->gradio) (0.1.2)\n"
     ]
    },
    {
     "name": "stderr",
     "output_type": "stream",
     "text": [
      "這個時候不應有 >。\n"
     ]
    }
   ],
   "source": [
    "!pip install transformers gradio\n",
    "!pip install opencc-python-reimplemented     #  簡體字 <==> 繁體字"
   ]
  },
  {
   "cell_type": "code",
   "execution_count": 2,
   "id": "fc9910d2-ce02-4fff-954d-1b9ceb7180d1",
   "metadata": {},
   "outputs": [
    {
     "data": {
      "application/vnd.jupyter.widget-view+json": {
       "model_id": "8c87a2a9fd534abfaa9196e3fea06924",
       "version_major": 2,
       "version_minor": 0
      },
      "text/plain": [
       "tokenizer_config.json:   0%|          | 0.00/1.29k [00:00<?, ?B/s]"
      ]
     },
     "metadata": {},
     "output_type": "display_data"
    },
    {
     "data": {
      "application/vnd.jupyter.widget-view+json": {
       "model_id": "e1edb94d0d7f44289a728801341500b6",
       "version_major": 2,
       "version_minor": 0
      },
      "text/plain": [
       "vocab.json:   0%|          | 0.00/2.78M [00:00<?, ?B/s]"
      ]
     },
     "metadata": {},
     "output_type": "display_data"
    },
    {
     "data": {
      "application/vnd.jupyter.widget-view+json": {
       "model_id": "d30d7ee15a864f49b66b5731a175323f",
       "version_major": 2,
       "version_minor": 0
      },
      "text/plain": [
       "merges.txt:   0%|          | 0.00/1.67M [00:00<?, ?B/s]"
      ]
     },
     "metadata": {},
     "output_type": "display_data"
    },
    {
     "data": {
      "application/vnd.jupyter.widget-view+json": {
       "model_id": "0c8144201c654e949a849b65b797dc86",
       "version_major": 2,
       "version_minor": 0
      },
      "text/plain": [
       "tokenizer.json:   0%|          | 0.00/7.03M [00:00<?, ?B/s]"
      ]
     },
     "metadata": {},
     "output_type": "display_data"
    },
    {
     "data": {
      "application/vnd.jupyter.widget-view+json": {
       "model_id": "2a25ce7139384c86a79a755c4e0eca44",
       "version_major": 2,
       "version_minor": 0
      },
      "text/plain": [
       "config.json:   0%|          | 0.00/661 [00:00<?, ?B/s]"
      ]
     },
     "metadata": {},
     "output_type": "display_data"
    },
    {
     "data": {
      "application/vnd.jupyter.widget-view+json": {
       "model_id": "cd54f56ebb024e25b2e077705938d5aa",
       "version_major": 2,
       "version_minor": 0
      },
      "text/plain": [
       "model.safetensors:   0%|          | 0.00/988M [00:00<?, ?B/s]"
      ]
     },
     "metadata": {},
     "output_type": "display_data"
    },
    {
     "data": {
      "application/vnd.jupyter.widget-view+json": {
       "model_id": "b8a3904a8ef9405ebfd75488cb30c155",
       "version_major": 2,
       "version_minor": 0
      },
      "text/plain": [
       "generation_config.json:   0%|          | 0.00/138 [00:00<?, ?B/s]"
      ]
     },
     "metadata": {},
     "output_type": "display_data"
    }
   ],
   "source": [
    "import gradio as gr\n",
    "from transformers import AutoTokenizer, AutoModelForCausalLM   # 分詞器   模型載入\n",
    "import torch  #  pytorch 協助 GPU 算利運算 及 深度學習處理\n",
    "import opencc  # 導入 opencc 庫，用於進行簡體中文到繁體中文的轉換\n",
    "# 載入模型和分詞器\n",
    "model_name = \"Qwen/Qwen2-0.5B\"\n",
    "tokenizer = AutoTokenizer.from_pretrained(model_name)\n",
    "# 檢查是否有可用的 GPU，如果有則將模型載入到 GPU 上，否則使用 CPU\n",
    "device = torch.device(\"cuda\" if torch.cuda.is_available() else \"cpu\")\n",
    "model = AutoModelForCausalLM.from_pretrained(model_name).to(device)\n",
    "# 建立一個 OpenCC 轉換器，用於將簡體中文轉換為繁體中文\n",
    "converter = opencc.OpenCC('s2t')  # 's2t' 表示從簡體轉為繁體\n",
    "def answer_question(question):\n",
    "    # 將輸入的問題進行編碼，並生成 attention_mask\n",
    "    inputs = tokenizer(question, return_tensors=\"pt\", padding=True)\n",
    "    # 將編碼後的輸入向量傳到到與模型相同的 device 上（GPU 或 CPU）\n",
    "    inputs = {key: value.to(device) for key, value in inputs.items()}\n",
    "    # 設定 pad_token_id 為 eos_token_id，以避免在處理填充時出現混淆\n",
    "    pad_token_id = tokenizer.eos_token_id\n",
    "    # 使用 LLM 模型生成答案，這裡設置 max_new_tokens 來限制生成的最大長度\n",
    "    outputs = model.generate(\n",
    "        inputs['input_ids'],\n",
    "        attention_mask=inputs['attention_mask'],\n",
    "        max_new_tokens=256,\n",
    "        pad_token_id=pad_token_id\n",
    "    )\n",
    "    # 解碼生成的答案，將模型輸出的 token 轉換為人類可讀的內容\n",
    "    answer = tokenizer.decode(outputs[0], skip_special_tokens=True)\n",
    "    # 將簡體中文答案轉換為繁體中文\n",
    "    answer_traditional = converter.convert(answer)\n",
    "    return answer_traditional"
   ]
  },
  {
   "cell_type": "code",
   "execution_count": null,
   "id": "3fc97ae5-aa02-4d3c-8554-3ddcc04716a3",
   "metadata": {},
   "outputs": [
    {
     "name": "stdout",
     "output_type": "stream",
     "text": [
      "Running on local URL:  http://127.0.0.1:7863\n",
      "Running on public URL: https://2c2cd4a08d3e44b0c7.gradio.live\n",
      "\n",
      "This share link expires in 72 hours. For free permanent hosting and GPU upgrades, run `gradio deploy` from Terminal to deploy to Spaces (https://huggingface.co/spaces)\n"
     ]
    },
    {
     "data": {
      "text/html": [
       "<div><iframe src=\"https://2c2cd4a08d3e44b0c7.gradio.live\" width=\"100%\" height=\"500\" allow=\"autoplay; camera; microphone; clipboard-read; clipboard-write;\" frameborder=\"0\" allowfullscreen></iframe></div>"
      ],
      "text/plain": [
       "<IPython.core.display.HTML object>"
      ]
     },
     "metadata": {},
     "output_type": "display_data"
    },
    {
     "name": "stdout",
     "output_type": "stream",
     "text": [
      " * Serving Flask app '__main__'\n",
      " * Debug mode: off\n"
     ]
    },
    {
     "name": "stderr",
     "output_type": "stream",
     "text": [
      "WARNING: This is a development server. Do not use it in a production deployment. Use a production WSGI server instead.\n",
      " * Running on all addresses (0.0.0.0)\n",
      " * Running on http://127.0.0.1:5000\n",
      " * Running on http://192.168.88.35:5000\n",
      "Press CTRL+C to quit\n",
      "127.0.0.1 - - [08/Sep/2024 14:02:03] \"POST /qa HTTP/1.1\" 200 -\n",
      "127.0.0.1 - - [08/Sep/2024 14:02:32] \"POST /qa HTTP/1.1\" 200 -\n"
     ]
    }
   ],
   "source": [
    "import gradio as gr\n",
    "import requests\n",
    "def call_llm_api(question):\n",
    "    # 設定外部 API 的 URL\n",
    "    api_url = \"http://127.0.0.1:5000/qa\"  # 此處替換為實際的 Flask API 地址\n",
    "    # 向外部 API 發送請求並獲取回傳答案\n",
    "    response = requests.post(api_url, json={\"text\": question})\n",
    "    if response.status_code == 200:\n",
    "        # 解析並回傳答案\n",
    "        answer = response.json().get(\"answer\", \"無法獲取答案\")\n",
    "        return answer\n",
    "    else:\n",
    "        return \"發生錯誤: 無法從 API 獲取答案。\"\n",
    "# 使用 Gradio 建立介面\n",
    "iface = gr.Interface(\n",
    "    fn=call_llm_api,  # 綁定處理函數\n",
    "    inputs=\"text\",  # 設置輸入類型為文字\n",
    "    outputs=\"text\",  # 設置輸出類型為文字\n",
    "    title=\"繁體中文 LLM QA 問答系統\",  # 設置介面標題\n",
    "    description=f\"輸入您的問題，獲取 {model_name} 模型的回答。\",  # 設置介面描述\n",
    ")\n",
    "# 啟動 Gradio 介面並提供外部連結\n",
    "iface.launch(share=True)\n",
    "\n",
    "from flask import Flask, request, jsonify\n",
    "# 建立一個 Flask 應用\n",
    "app = Flask(__name__)\n",
    "# 定義一個路由 '/qa'，使用 POST 方法來處理問答請求\n",
    "@app.route('/qa', methods=['POST'])\n",
    "def qa():\n",
    "    # 檢查請求中是否包含 'text' 字段，如果沒有則回傳錯誤訊息\n",
    "    if 'text' not in request.json:\n",
    "        return jsonify({\"error\": \"未提供文本\"}), 400  # 400 表示客戶端錯誤\n",
    "    # 從請求中提取問題文字\n",
    "    question = request.json['text']\n",
    "    # 呼叫 answer_question 函數來生成答案\n",
    "    answer = answer_question(question)\n",
    "    # 將答案以 JSON 格式回傳\n",
    "    return jsonify({\"answer\": answer})\n",
    "# 啟動 Flask 服務，監聽所有網絡接口，並設定端口為 5000\n",
    "if __name__ == \"__main__\":\n",
    "    app.run(host=\"0.0.0.0\", port=5000)"
   ]
  },
  {
   "cell_type": "code",
   "execution_count": null,
   "id": "f6985d88-1b7f-408d-816a-945b3a2260e6",
   "metadata": {},
   "outputs": [],
   "source": []
  }
 ],
 "metadata": {
  "kernelspec": {
   "display_name": "Python 3 (ipykernel)",
   "language": "python",
   "name": "python3"
  },
  "language_info": {
   "codemirror_mode": {
    "name": "ipython",
    "version": 3
   },
   "file_extension": ".py",
   "mimetype": "text/x-python",
   "name": "python",
   "nbconvert_exporter": "python",
   "pygments_lexer": "ipython3",
   "version": "3.11.9"
  }
 },
 "nbformat": 4,
 "nbformat_minor": 5
}
